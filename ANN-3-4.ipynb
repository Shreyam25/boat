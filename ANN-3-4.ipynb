{
 "cells": [
  {
   "cell_type": "markdown",
   "id": "6ff40557",
   "metadata": {},
   "source": [
    "## ASSIGNMENT 3"
   ]
  },
  {
   "cell_type": "markdown",
   "id": "9921a45c",
   "metadata": {},
   "source": [
    "Write a program to demonstrate ART"
   ]
  },
  {
   "cell_type": "markdown",
   "id": "0929f321",
   "metadata": {},
   "source": [
    "- the bottom-up weights are used to update existing clusters based on incoming input data.\n",
    "- the top-down weights are used to create new clusters based on input data that is not sufficiently similar to any existing clusters.\n",
    "- If the match is greater than the vigilance parameter, the input vector is assigned to the chosen cluster, and the weights for that cluster are updated. If the match is less than the vigilance parameter, a new cluster is created with the input vector as its prototype, and the weights for the new cluster are added to the bottom-up and top-down weight matrices."
   ]
  },
  {
   "cell_type": "code",
   "execution_count": 14,
   "id": "f370e8ce",
   "metadata": {},
   "outputs": [
    {
     "name": "stdout",
     "output_type": "stream",
     "text": [
      "[0 0 0 1 1 1 0] [1 1 0 1 1 1 0] [1 1 0 0 0 0 1]\n",
      "[0.         0.         0.         0.28571429 0.28571429 0.28571429\n",
      " 0.        ] [0.18181818 0.18181818 0.         0.18181818 0.18181818 0.18181818\n",
      " 0.        ] [0.28571429 0.28571429 0.         0.         0.         0.\n",
      " 0.28571429]\n",
      "input  ->  cluster\n",
      "[1 1 0 0 0 0 1] -> 2\n",
      "[0 0 1 1 1 1 0] -> 0\n",
      "[1 0 1 1 1 1 0] -> 0\n",
      "[0 0 0 1 1 1 0] -> 0\n",
      "[1 1 0 1 1 1 0] -> 1\n"
     ]
    }
   ],
   "source": [
    "import numpy as np\n",
    "input_array = np.array([[1,1,0,0,0,0,1],[0,0,1,1,1,1,0],[1,0,1,1,1,1,0],[0,0,0,1,1,1,0],[1,1,0,1,1,1,0]])\n",
    "output = np.full(input_array.shape[0],-1) #the initial value of -1 indicates that no cluster has been assigned yet. \n",
    "output_previous = output.copy()\n",
    "vigilance = 0.7\n",
    "bottom_up_weights = np.full((1,input_array.shape[1]),1/(1+input_array.shape[1]))\n",
    "top_down_weights = np.full((1,input_array.shape[1]),1)\n",
    "while True:\n",
    "    output_previous = output.copy()\n",
    "    random_index = np.random.randint(0, input_array.shape[0])\n",
    "    input = input_array[random_index]\n",
    "    y = []\n",
    "    #The activation of each cluster is calculated using the bottom-up weights.\n",
    "    #The activation is defined as the dot product of the input vector with the corresponding row of the bottom-up weight matrix.\n",
    "    for i in range(bottom_up_weights.shape[0]):\n",
    "        y.append((np.sum(input*bottom_up_weights[i]),i))\n",
    "        #The clusters are sorted in descending order of activation, \n",
    "        # and the most activated cluster is chosen for comparison with the input vector.\n",
    "    y.sort(reverse=True)\n",
    "    ass = False\n",
    "    for j in y:\n",
    "        s=top_down_weights[j[1]]*input\n",
    "        if(np.sum(s)/np.sum(input) > vigilance):\n",
    "            top_down_weights[j[1]] = top_down_weights[j[1]] * input\n",
    "            bottom_up_weights[j[1]] = top_down_weights[j[1]] / (0.5 + np.sum(s))\n",
    "            output[random_index] = j[1]\n",
    "            ass = True\n",
    "            break\n",
    "            \n",
    "    if(not ass):\n",
    "        top_down_weights = np.append(top_down_weights,[input],axis=0)\n",
    "        bottom_up_weights = np.append(bottom_up_weights,[(top_down_weights[-1] / (0.5 + np.sum(input)))],axis=0)\n",
    "        output[random_index] = top_down_weights.shape[0]-1\n",
    "    if((output_previous == output).all() and (output>-1).sum() == output.size):\n",
    "        break\n",
    "print(*top_down_weights)\n",
    "print(*bottom_up_weights)\n",
    "print(\"input  ->  cluster\")\n",
    "for k in range(input_array.shape[0]):\n",
    "    print(input_array[k],\"->\",output[k])"
   ]
  },
  {
   "cell_type": "code",
   "execution_count": 11,
   "id": "c76c739a",
   "metadata": {},
   "outputs": [
    {
     "data": {
      "text/plain": [
       "array([1, 0, 0, 1, 1, 1, 0])"
      ]
     },
     "execution_count": 11,
     "metadata": {},
     "output_type": "execute_result"
    }
   ],
   "source": [
    "bottom_up_weights = np.full((1,input_array.shape[1]),1/(1+input_array.shape[1]))\n",
    "top_down_weights[-1]"
   ]
  },
  {
   "cell_type": "markdown",
   "id": "ea57b319",
   "metadata": {},
   "source": [
    "## ASSIGNMENT 4"
   ]
  },
  {
   "cell_type": "code",
   "execution_count": 4,
   "id": "fd484e1b",
   "metadata": {},
   "outputs": [],
   "source": [
    "import matplotlib.pyplot as plt\n"
   ]
  },
  {
   "cell_type": "code",
   "execution_count": 5,
   "id": "6596a7fe",
   "metadata": {},
   "outputs": [
    {
     "data": {
      "text/plain": [
       "Text(0.5, 1.0, 'Random Classification Data with 2 classes')"
      ]
     },
     "execution_count": 5,
     "metadata": {},
     "output_type": "execute_result"
    },
    {
     "data": {
      "image/png": "[encoded data removed]",
      "text/plain": [
       "<Figure size 720x576 with 1 Axes>"
      ]
     },
     "metadata": {
      "needs_background": "light"
     },
     "output_type": "display_data"
    }
   ],
   "source": [
    "from sklearn import datasets\n",
    "X, y = datasets.make_blobs(n_samples=200,n_features=2,\n",
    "                           centers=2,cluster_std=1.05,\n",
    "                           random_state=2)\n",
    "#Plotting\n",
    "fig = plt.figure(figsize=(10,8))\n",
    "plt.plot(X[:, 0][y == 0], X[:, 1][y == 0], 'r^')\n",
    "plt.plot(X[:, 0][y == 1], X[:, 1][y == 1], 'bs')\n",
    "plt.xlabel(\"feature 1\")\n",
    "plt.ylabel(\"feature 2\")\n",
    "plt.title('Random Classification Data with 2 classes')"
   ]
  },
  {
   "cell_type": "code",
   "execution_count": 6,
   "id": "b09d03d1",
   "metadata": {},
   "outputs": [
    {
     "data": {
      "text/plain": [
       "(array([[ 3.50550070e-01, -1.66237773e+00],\n",
       "        [-5.49094079e-01, -8.74918828e+00],\n",
       "        [ 1.87274614e+00, -1.43181867e+00],\n",
       "        [ 1.85412893e+00, -1.95622676e+00],\n",
       "        [-1.67455485e+00, -9.55966966e+00],\n",
       "        [-1.88949412e-01, -7.80630648e-01],\n",
       "        [-2.76985304e+00, -9.74583819e+00],\n",
       "        [ 2.60959954e-01, -9.83393657e+00],\n",
       "        [ 1.97173128e+00,  2.48196592e-01],\n",
       "        [-1.95421438e-01, -9.82692792e+00],\n",
       "        [ 7.94753304e-01, -1.76534718e+00],\n",
       "        [-1.40024432e+00, -1.00045583e+01],\n",
       "        [-1.62140407e+00, -1.00697216e+01],\n",
       "        [ 8.25539221e-01, -7.17158260e-01],\n",
       "        [-1.47904469e+00, -9.56255496e+00],\n",
       "        [ 1.58405209e+00, -1.46629296e+00],\n",
       "        [ 1.06268230e+00, -7.31215880e-01],\n",
       "        [ 2.19534770e+00, -1.45327572e+00],\n",
       "        [ 1.19440189e+00, -1.98887161e+00],\n",
       "        [-4.44871049e-01,  1.51030196e+00],\n",
       "        [-6.97774664e-01, -7.68615395e-01],\n",
       "        [-1.70418884e+00, -1.09352200e+01],\n",
       "        [ 3.93298869e-01, -9.86498477e-01],\n",
       "        [ 8.09502872e-01, -2.80255275e+00],\n",
       "        [-2.21284571e-01,  2.18426780e-03],\n",
       "        [ 6.61771687e-01, -2.71105436e+00],\n",
       "        [-8.91135194e-01, -8.05385981e+00],\n",
       "        [-7.41560748e-01, -2.00299703e+00],\n",
       "        [ 4.12652646e-01, -9.79048994e-01],\n",
       "        [-8.96795765e-01, -8.66868923e+00],\n",
       "        [-3.10495944e+00, -8.38861021e+00],\n",
       "        [-1.01070298e+00, -1.05196934e+01],\n",
       "        [ 1.62306101e+00, -7.16698459e-01],\n",
       "        [-6.39450666e-01, -9.03680362e+00],\n",
       "        [-2.56260258e+00, -7.58677489e+00],\n",
       "        [ 1.10869812e+00, -3.30275153e+00],\n",
       "        [-5.50226372e-01, -1.16166152e+01],\n",
       "        [-4.77638170e-01, -9.70650345e-01],\n",
       "        [ 1.53216357e+00, -1.64513848e+00],\n",
       "        [-1.96601474e+00, -8.59689627e+00],\n",
       "        [ 1.66112540e-01, -8.47560792e-01],\n",
       "        [-2.47113636e+00, -1.02242673e+01],\n",
       "        [ 1.65663843e+00, -8.55079781e-01],\n",
       "        [ 2.60170010e-01, -1.04160339e+00],\n",
       "        [-1.99166131e+00, -1.09928863e+01],\n",
       "        [-1.47252136e+00, -8.41062790e+00],\n",
       "        [-1.43565651e+00, -7.90496660e+00],\n",
       "        [-8.24930811e-01, -8.13917717e+00],\n",
       "        [-4.09170605e-01, -8.81932230e+00],\n",
       "        [ 1.75487048e+00, -1.67100033e+00],\n",
       "        [-1.59939272e+00, -6.76691575e+00],\n",
       "        [-8.06521224e-01, -1.37402369e+00],\n",
       "        [-2.83669071e+00, -8.59284788e+00],\n",
       "        [-1.57009042e+00, -1.00242035e+01],\n",
       "        [ 1.02744330e+00, -3.01614038e+00],\n",
       "        [ 3.07031041e-01,  1.85723536e-01],\n",
       "        [ 8.17722345e-01, -1.89899362e+00],\n",
       "        [-4.07252389e+00, -9.57750062e+00],\n",
       "        [ 2.18263294e+00, -9.04732063e-01],\n",
       "        [-1.28009171e+00, -8.91200516e+00],\n",
       "        [ 1.38862276e+00, -1.43580590e+00],\n",
       "        [-1.05318015e+00, -1.14330184e+01],\n",
       "        [ 7.74110747e-01, -1.14905326e+00],\n",
       "        [-1.51976189e+00, -1.16545682e+01],\n",
       "        [-2.39394095e+00, -8.86022552e+00],\n",
       "        [ 8.84729781e-01, -4.02784052e-01],\n",
       "        [-2.03531849e+00, -1.00940607e+01],\n",
       "        [ 2.16363071e+00, -8.46207098e+00],\n",
       "        [ 6.95554065e-01, -7.28206672e-01],\n",
       "        [ 1.74245023e+00,  1.36266947e+00],\n",
       "        [ 1.86452806e+00, -9.40682898e-01],\n",
       "        [-1.68069426e+00, -9.41166190e+00],\n",
       "        [-2.35258742e+00, -9.02745988e+00],\n",
       "        [ 1.81870293e+00, -1.08967502e+00],\n",
       "        [-6.05043919e-02, -9.07609341e+00],\n",
       "        [ 1.90632766e+00, -2.43499725e+00],\n",
       "        [ 1.17008590e-01, -2.34035982e+00],\n",
       "        [ 1.60876386e+00, -1.31495880e+00],\n",
       "        [-3.90196076e-01, -3.42042542e+00],\n",
       "        [-1.94963972e+00, -1.07284683e+01],\n",
       "        [ 9.85268362e-01, -2.27407434e+00],\n",
       "        [-7.57264801e-01, -9.34864598e+00],\n",
       "        [-3.83660791e+00, -9.36311253e+00],\n",
       "        [-1.72038426e+00, -9.62042071e+00],\n",
       "        [-1.02659035e+00, -8.95917843e+00],\n",
       "        [ 8.11524834e-01, -1.70866587e+00],\n",
       "        [ 2.91574355e+00, -3.06367355e-01],\n",
       "        [-1.61986103e+00, -9.03645942e+00],\n",
       "        [ 6.03154477e-01,  2.02546212e+00],\n",
       "        [ 2.56504894e+00, -2.90121881e+00],\n",
       "        [ 6.46997402e-01, -9.01875100e+00],\n",
       "        [-4.14163801e-01, -8.17085180e+00],\n",
       "        [-7.14090721e-01, -1.01074430e+01],\n",
       "        [-1.30018898e+00, -8.24772408e+00],\n",
       "        [ 7.60862568e-01, -2.52536555e+00],\n",
       "        [-1.09067166e+00, -8.90065288e+00],\n",
       "        [ 9.06891914e-01, -1.61345206e+00],\n",
       "        [-1.21184474e-01, -1.40749481e+00],\n",
       "        [-1.61012617e-01, -2.00915932e+00],\n",
       "        [-7.53151890e-01, -1.03678998e+01],\n",
       "        [ 1.22242520e-01, -9.16371456e+00],\n",
       "        [ 1.90763236e+00, -6.71105011e-01],\n",
       "        [-7.29590706e-01, -8.70943181e+00],\n",
       "        [-2.01362140e+00, -1.04568119e+01],\n",
       "        [ 9.90932790e-01, -1.43980862e+00],\n",
       "        [-3.16320932e+00, -1.03653101e+01],\n",
       "        [-2.06536645e+00, -9.47199885e+00],\n",
       "        [-1.56261177e+00, -7.13854024e+00],\n",
       "        [-9.49674615e-01, -9.46539680e-01],\n",
       "        [-3.24159714e+00, -7.66373146e+00],\n",
       "        [ 1.55495238e-01, -8.20269545e+00],\n",
       "        [ 2.61895479e+00, -1.62517159e+00],\n",
       "        [ 1.69068204e+00, -5.21923247e-01],\n",
       "        [ 1.08288221e+00, -5.94951156e-01],\n",
       "        [ 1.14638163e+00, -1.71366351e+00],\n",
       "        [-2.22746033e+00, -1.01019963e+01],\n",
       "        [ 1.43007239e+00, -1.35429177e+00],\n",
       "        [ 1.12041042e+00, -2.18272234e+00],\n",
       "        [ 2.13334628e+00, -3.46263782e-01],\n",
       "        [ 2.44621964e+00, -1.13778544e+00],\n",
       "        [ 2.07284370e+00, -2.05152586e+00],\n",
       "        [ 1.00754280e-01, -2.18851103e+00],\n",
       "        [-6.38194139e-01, -9.43110624e+00],\n",
       "        [-2.90411030e+00, -1.16682599e+01],\n",
       "        [-2.71280915e-01, -8.68518650e+00],\n",
       "        [ 3.43955298e-01, -8.95817959e-01],\n",
       "        [-4.78938837e-02, -1.19422587e+01],\n",
       "        [-6.48510353e-01, -9.47763290e+00],\n",
       "        [ 3.59951726e-01, -1.24949664e+00],\n",
       "        [ 1.66038150e+00,  9.13788583e-01],\n",
       "        [ 1.05673513e+00, -2.69907047e+00],\n",
       "        [-4.90538865e-01, -1.05249244e+01],\n",
       "        [-1.32165071e+00, -9.13917176e+00],\n",
       "        [ 4.89265190e-01, -2.36418370e+00],\n",
       "        [-8.80606388e-01, -9.70946740e+00],\n",
       "        [-8.79142411e-01, -8.88688615e+00],\n",
       "        [-2.59830054e+00, -8.49640351e+00],\n",
       "        [-2.80613452e+00, -9.83639403e+00],\n",
       "        [-1.13128258e+00, -1.01218094e+00],\n",
       "        [ 2.06290246e+00,  1.12394506e+00],\n",
       "        [-1.06568358e+00, -8.00444431e+00],\n",
       "        [-2.61500332e-01, -1.80587922e+00],\n",
       "        [-8.14411765e-02, -1.76413571e+00],\n",
       "        [-1.76520757e+00, -9.11304244e+00],\n",
       "        [-1.15501512e-01, -1.13346390e+01],\n",
       "        [-1.60928556e+00, -8.67191304e+00],\n",
       "        [-2.20211525e+00, -9.64573124e+00],\n",
       "        [ 1.73622207e+00, -1.17379558e+00],\n",
       "        [-3.51690379e-01, -9.68213556e-01],\n",
       "        [-1.90354532e+00, -8.27449977e+00],\n",
       "        [ 1.77822845e+00, -1.53809400e+00],\n",
       "        [-2.15069401e+00, -9.38937963e+00],\n",
       "        [ 2.69539718e+00, -5.45234710e-01],\n",
       "        [ 1.40306083e+00, -2.69267265e-01],\n",
       "        [ 3.03402530e+00, -8.61929844e+00],\n",
       "        [-1.77186553e+00, -1.07989317e+01],\n",
       "        [ 1.18231958e+00, -1.36382974e+00],\n",
       "        [ 1.74091385e+00, -3.18430399e+00],\n",
       "        [-2.39095179e+00, -1.04359334e+01],\n",
       "        [-4.40962962e-01, -8.15573102e+00],\n",
       "        [ 1.57354644e+00, -2.17601731e+00],\n",
       "        [ 6.65365354e-01,  9.58359846e-01],\n",
       "        [ 2.68918464e+00, -8.46665626e-01],\n",
       "        [-1.66280500e+00, -1.04012538e+01],\n",
       "        [-2.46989189e+00, -9.02672818e+00],\n",
       "        [ 3.02306437e+00, -2.41788829e+00],\n",
       "        [ 2.15942710e+00, -1.68555790e+00],\n",
       "        [-1.75704120e+00, -8.94138611e+00],\n",
       "        [-1.14903713e+00, -8.68714811e+00],\n",
       "        [ 2.30412237e+00, -2.60156503e+00],\n",
       "        [ 1.05336305e+00, -1.12650924e+00],\n",
       "        [-2.77238005e+00, -9.64264532e+00],\n",
       "        [-3.42244116e+00, -9.43290706e+00],\n",
       "        [-1.63586502e+00, -9.72946860e+00],\n",
       "        [-9.03011959e-01, -8.82814393e+00],\n",
       "        [-8.63755791e-01, -9.81182367e+00],\n",
       "        [ 7.16692077e-01, -2.00478066e+00],\n",
       "        [ 1.33666995e+00, -2.82167956e+00],\n",
       "        [-2.48865505e+00, -9.92932396e+00],\n",
       "        [ 5.58120530e-01, -1.22287306e+00],\n",
       "        [ 5.48800841e-01, -9.95135128e+00],\n",
       "        [-1.49987326e+00, -1.23210622e+00],\n",
       "        [-7.52076469e-01, -1.07890279e+01],\n",
       "        [ 2.51697795e+00, -2.41172642e+00],\n",
       "        [-1.27170922e-01, -1.97912985e+00],\n",
       "        [ 1.39785819e+00, -1.10283073e+01],\n",
       "        [-7.01075210e-01, -7.07465695e+00],\n",
       "        [ 2.09100144e+00,  1.43914678e-01],\n",
       "        [-1.23648559e+00, -1.06552971e+01],\n",
       "        [-2.43377785e+00, -7.81776395e+00],\n",
       "        [-1.63748148e+00,  6.23742032e-01],\n",
       "        [ 1.82176219e+00, -2.99630964e+00],\n",
       "        [-2.29717776e-01, -9.88162251e+00],\n",
       "        [ 6.59677184e-02,  3.29104020e-01],\n",
       "        [ 2.71725993e+00, -9.66269556e-01],\n",
       "        [-1.94651523e+00, -8.94765931e+00],\n",
       "        [-1.06320887e-01, -9.76942956e+00],\n",
       "        [ 6.02120538e-01, -9.93193935e+00],\n",
       "        [ 1.34595337e+00,  7.06042557e-01],\n",
       "        [ 3.28246375e-01, -1.15666134e+01]]),\n",
       " array([1, 0, 1, 1, 0, 1, 0, 0, 1, 0, 1, 0, 0, 1, 0, 1, 1, 1, 1, 1, 1, 0,\n",
       "        1, 1, 1, 1, 0, 1, 1, 0, 0, 0, 1, 0, 0, 1, 0, 1, 1, 0, 1, 0, 1, 1,\n",
       "        0, 0, 0, 0, 0, 1, 0, 1, 0, 0, 1, 1, 1, 0, 1, 0, 1, 0, 1, 0, 0, 1,\n",
       "        0, 0, 1, 1, 1, 0, 0, 1, 0, 1, 1, 1, 1, 0, 1, 0, 0, 0, 0, 1, 1, 0,\n",
       "        1, 1, 0, 0, 0, 0, 1, 0, 1, 1, 1, 0, 0, 1, 0, 0, 1, 0, 0, 0, 1, 0,\n",
       "        0, 1, 1, 1, 1, 0, 1, 1, 1, 1, 1, 1, 0, 0, 0, 1, 0, 0, 1, 1, 1, 0,\n",
       "        0, 1, 0, 0, 0, 0, 1, 1, 0, 1, 1, 0, 0, 0, 0, 1, 1, 0, 1, 0, 1, 1,\n",
       "        0, 0, 1, 1, 0, 0, 1, 1, 1, 0, 0, 1, 1, 0, 0, 1, 1, 0, 0, 0, 0, 0,\n",
       "        1, 1, 0, 1, 0, 1, 0, 1, 1, 0, 0, 1, 0, 0, 1, 1, 0, 1, 1, 0, 0, 0,\n",
       "        1, 0]))"
      ]
     },
     "execution_count": 6,
     "metadata": {},
     "output_type": "execute_result"
    }
   ],
   "source": [
    "X,y"
   ]
  },
  {
   "cell_type": "code",
   "execution_count": 7,
   "id": "ce7a87aa",
   "metadata": {},
   "outputs": [],
   "source": [
    "def step_func(z):\n",
    "        return 1.0 if (z > 0) else 0.0"
   ]
  },
  {
   "cell_type": "code",
   "execution_count": 8,
   "id": "12566fa9",
   "metadata": {},
   "outputs": [],
   "source": [
    "def perceptron(X, y, lr, epochs):\n",
    "    \n",
    "   \n",
    "    m, n = X.shape\n",
    "    \n",
    "    # Initializing parapeters(theta) to zeros.\n",
    "    # +1 in n+1 for the bias term.\n",
    "    theta = np.zeros((n+1,1))\n",
    "    \n",
    "    # Empty list to store how many examples were \n",
    "    # misclassified at every iteration.\n",
    "    n_miss_list = []\n",
    "    \n",
    "    # Training.\n",
    "    for epoch in range(epochs):\n",
    "        \n",
    "        # variable to store #misclassified.\n",
    "        n_miss = 0\n",
    "        \n",
    "        # looping for every example.\n",
    "        for idx, x_i in enumerate(X):\n",
    "            \n",
    "            # Insering 1 for bias, X0 = 1.\n",
    "            x_i = np.insert(x_i, 0, 1).reshape(-1,1) # inserting a bias term (x0=1) and reshaping it to a column vector.\n",
    "\n",
    "            \n",
    "            # Calculating prediction/hypothesis.\n",
    "            y_hat = step_func(np.dot(x_i.T, theta))\n",
    "            \n",
    "            # Updating if the example is misclassified.\n",
    "            if (np.squeeze(y_hat) - y[idx]) != 0:\n",
    "                theta += lr*((y[idx] - y_hat)*x_i)\n",
    "                \n",
    "                # Incrementing by 1.\n",
    "                n_miss += 1\n",
    "        \n",
    "        # Appending number of misclassified examples\n",
    "        # at every iteration.\n",
    "        n_miss_list.append(n_miss)\n",
    "        \n",
    "    return theta, n_miss_list"
   ]
  },
  {
   "cell_type": "code",
   "execution_count": 9,
   "id": "a6f33b4b",
   "metadata": {},
   "outputs": [],
   "source": [
    "def plot_decision_boundary(X, theta):\n",
    "    \n",
    "    # X --> Inputs\n",
    "    # theta --> parameters\n",
    "    \n",
    "    # The Line is y=mx+c\n",
    "    # So, Equate mx+c = theta0.X0 + theta1.X1 + theta2.X2\n",
    "    # Solving we find m and c\n",
    "    x1 = [min(X[:,0]), max(X[:,0])]\n",
    "    m = -theta[1]/theta[2]\n",
    "    c = -theta[0]/theta[2]\n",
    "    x2 = m*x1 + c\n",
    "    \n",
    "    # Plotting\n",
    "    fig = plt.figure(figsize=(10,8))\n",
    "    plt.plot(X[:, 0][y==0], X[:, 1][y==0], \"r^\")\n",
    "    plt.plot(X[:, 0][y==1], X[:, 1][y==1], \"bs\")\n",
    "    plt.xlabel(\"feature 1\")\n",
    "    plt.ylabel(\"feature 2\")\n",
    "    plt.title('Perceptron Algorithm')\n",
    "    plt.plot(x1, x2, 'y-')"
   ]
  },
  {
   "cell_type": "code",
   "execution_count": 10,
   "id": "9a9fb9e9",
   "metadata": {},
   "outputs": [
    {
     "data": {
      "image/png": "[encoded data removed]",
      "text/plain": [
       "<Figure size 720x576 with 1 Axes>"
      ]
     },
     "metadata": {
      "needs_background": "light"
     },
     "output_type": "display_data"
    }
   ],
   "source": [
    "theta, miss_l = perceptron(X, y, 0.5, 100)\n",
    "plot_decision_boundary(X, theta)"
   ]
  },
  {
   "cell_type": "code",
   "execution_count": null,
   "id": "b7bdfd33",
   "metadata": {},
   "outputs": [],
   "source": []
  }
 ],
 "metadata": {
  "kernelspec": {
   "display_name": "Python 3 (ipykernel)",
   "language": "python",
   "name": "python3"
  },
  "language_info": {
   "codemirror_mode": {
    "name": "ipython",
    "version": 3
   },
   "file_extension": ".py",
   "mimetype": "text/x-python",
   "name": "python",
   "nbconvert_exporter": "python",
   "pygments_lexer": "ipython3",
   "version": "3.9.7"
  }
 },
 "nbformat": 4,
 "nbformat_minor": 5
}
