{
  "cells": [
    {
      "cell_type": "markdown",
      "source": [
        "# Object detection using Transfer Learning of CNN architectures\n",
        "\n",
        "\n",
        "\n",
        "1.   Load in a pre-trained CNN model trained on a large dataset\n",
        "2.   Freeze parameters(weights) in the model’s lower convolutional layers\n",
        "3.   Add a custom classifier with several layers of trainable parameters to model\n",
        "4.   Train classifier layers on training data available for the task\n",
        "5.   Fine-tune hyperparameters and unfreeze more layers as needed\n",
        "\n",
        "\n"
      ],
      "metadata": {
        "id": "MzFjlK0ViCJK"
      }
    },
    {
      "cell_type": "code",
      "execution_count": null,
      "metadata": {
        "id": "Yn-fUt4rfHG9"
      },
      "outputs": [],
      "source": [
        "from keras.applications import ResNet50\n",
        "from keras.layers import Flatten, Dense, Dropout\n",
        "from keras.models import Model\n",
        "from keras.optimizers import SGD\n",
        "from keras.preprocessing.image import ImageDataGenerator"
      ]
    },
    {
      "cell_type": "code",
      "source": [
        "from google.colab import drive\n",
        "drive.mount('/content/drive')"
      ],
      "metadata": {
        "colab": {
          "base_uri": "https://localhost:8080/"
        },
        "id": "eI3mPerRMvgq",
        "outputId": "7f8827a3-8d60-45d9-d3e1-e3ff2737637c"
      },
      "execution_count": null,
      "outputs": [
        {
          "output_type": "stream",
          "name": "stdout",
          "text": [
            "Drive already mounted at /content/drive; to attempt to forcibly remount, call drive.mount(\"/content/drive\", force_remount=True).\n"
          ]
        }
      ]
    },
    {
      "cell_type": "code",
      "source": [],
      "metadata": {
        "id": "I2xobYGD5rT_"
      },
      "execution_count": null,
      "outputs": []
    },
    {
      "cell_type": "code",
      "source": [
        "train_path = '/content/drive/MyDrive/DL 6/train'\n",
        "valid_path = '/content/drive/MyDrive/DL 6/val'"
      ],
      "metadata": {
        "id": "gclKo-qzM20O"
      },
      "execution_count": null,
      "outputs": []
    },
    {
      "cell_type": "code",
      "execution_count": null,
      "metadata": {
        "id": "yZPQeDQ2fHHE",
        "colab": {
          "base_uri": "https://localhost:8080/"
        },
        "outputId": "b325117e-5285-4ba0-8975-b1c5e8ea34d2"
      },
      "outputs": [
        {
          "output_type": "stream",
          "name": "stdout",
          "text": [
            "Downloading data from https://storage.googleapis.com/tensorflow/keras-applications/resnet/resnet50_weights_tf_dim_ordering_tf_kernels_notop.h5\n",
            "94765736/94765736 [==============================] - 3s 0us/step\n"
          ]
        }
      ],
      "source": [
        "# Load pre-trained ResNet50 model\n",
        "base_model = ResNet50(weights='imagenet', include_top=False, input_shape=(224, 224, 3))"
      ]
    },
    {
      "cell_type": "code",
      "execution_count": null,
      "metadata": {
        "id": "dfmdjU6hfHHF"
      },
      "outputs": [],
      "source": [
        "# Freeze early layers\n",
        "for layer in base_model.layers[:-4]:\n",
        "    layer.trainable = False\n",
        "\n",
        "# Add custom classifier\n",
        "x = base_model.output\n",
        "x = Flatten()(x)\n",
        "x = Dense(512, activation='relu')(x)\n",
        "x = Dropout(0.5)(x)\n",
        "predictions = Dense(2, activation='softmax')(x)"
      ]
    },
    {
      "cell_type": "code",
      "execution_count": null,
      "metadata": {
        "id": "PwRkbescfHHH"
      },
      "outputs": [],
      "source": [
        "# Create full model\n",
        "model = Model(inputs=base_model.input, outputs=predictions)\n",
        "\n",
        "# Compile model\n",
        "model.compile(loss='categorical_crossentropy',\n",
        "              optimizer='rmsprop',\n",
        "              metrics=['accuracy'])"
      ]
    },
    {
      "cell_type": "code",
      "execution_count": null,
      "metadata": {
        "id": "01-PsallfHHI",
        "outputId": "9c7fc758-6b10-4e2c-b3d9-1fdad4960fe2",
        "colab": {
          "base_uri": "https://localhost:8080/"
        }
      },
      "outputs": [
        {
          "output_type": "stream",
          "name": "stdout",
          "text": [
            "Found 72 images belonging to 2 classes.\n",
            "Found 20 images belonging to 2 classes.\n"
          ]
        }
      ],
      "source": [
        "# Create generators\n",
        "train_datagen = ImageDataGenerator(rescale=1./255,\n",
        "                                   shear_range=0.2,\n",
        "                                   zoom_range=0.2,\n",
        "                                   horizontal_flip=True)\n",
        "\n",
        "test_datagen = ImageDataGenerator(rescale=1./255)\n",
        "\n",
        "train_generator = train_datagen.flow_from_directory(\n",
        "        train_path,\n",
        "        target_size=(224, 224),\n",
        "        batch_size=2,\n",
        "        class_mode='categorical')\n",
        "\n",
        "validation_generator = test_datagen.flow_from_directory(\n",
        "        valid_path,\n",
        "        target_size=(224, 224),\n",
        "        batch_size=2,\n",
        "        class_mode='categorical')"
      ]
    },
    {
      "cell_type": "code",
      "execution_count": null,
      "metadata": {
        "id": "t2sw2thzfHHK",
        "colab": {
          "base_uri": "https://localhost:8080/"
        },
        "outputId": "57918d1a-84ce-4d4c-a13e-0df3c64713da"
      },
      "outputs": [
        {
          "output_type": "stream",
          "name": "stdout",
          "text": [
            "Epoch 1/10\n",
            "5/5 [==============================] - ETA: 0s - loss: 66.4406 - accuracy: 0.8000"
          ]
        },
        {
          "output_type": "stream",
          "name": "stderr",
          "text": [
            "WARNING:tensorflow:Your input ran out of data; interrupting training. Make sure that your dataset or generator can generate at least `steps_per_epoch * epochs` batches (in this case, 50 batches). You may need to use the repeat() function when building your dataset.\n"
          ]
        },
        {
          "output_type": "stream",
          "name": "stdout",
          "text": [
            "\b\b\b\b\b\b\b\b\b\b\b\b\b\b\b\b\b\b\b\b\b\b\b\b\b\b\b\b\b\b\b\b\b\b\b\b\b\b\b\b\b\b\b\b\b\b\b\b\b\b\b\b\b\b\b\b\b\b\b\b\b\b\b\b\b\b\b\b\b\b\b\b\b\b\b\b\b\b\b\b\b\r5/5 [==============================] - 29s 4s/step - loss: 66.4406 - accuracy: 0.8000 - val_loss: 57.5446 - val_accuracy: 0.5000\n",
            "Epoch 2/10\n",
            "5/5 [==============================] - 4s 694ms/step - loss: 34.3868 - accuracy: 0.5000\n",
            "Epoch 3/10\n",
            "5/5 [==============================] - 3s 705ms/step - loss: 13.7933 - accuracy: 0.6000\n",
            "Epoch 4/10\n",
            "5/5 [==============================] - 3s 403ms/step - loss: 25.2056 - accuracy: 0.4000\n",
            "Epoch 5/10\n",
            "5/5 [==============================] - 3s 470ms/step - loss: 12.9994 - accuracy: 0.7000\n",
            "Epoch 6/10\n",
            "5/5 [==============================] - 2s 432ms/step - loss: 14.9081 - accuracy: 0.4000\n",
            "Epoch 7/10\n",
            "5/5 [==============================] - 1s 317ms/step - loss: 20.2821 - accuracy: 0.3000\n",
            "Epoch 8/10\n",
            "5/5 [==============================] - 1s 313ms/step - loss: 7.1835 - accuracy: 0.6000\n",
            "Epoch 9/10\n",
            "5/5 [==============================] - 1s 176ms/step - loss: 13.8812 - accuracy: 0.5000\n",
            "Epoch 10/10\n",
            "5/5 [==============================] - 2s 401ms/step - loss: 9.6148 - accuracy: 0.5000\n"
          ]
        },
        {
          "output_type": "execute_result",
          "data": {
            "text/plain": [
              "<keras.src.callbacks.History at 0x7a6cdc77bd00>"
            ]
          },
          "metadata": {},
          "execution_count": 11
        }
      ],
      "source": [
        "# Train classifier layers\n",
        "model.fit(\n",
        "        train_generator,\n",
        "        steps_per_epoch=5,\n",
        "        epochs=10,\n",
        "        validation_data=validation_generator,\n",
        "        validation_steps=50)"
      ]
    },
    {
      "cell_type": "code",
      "execution_count": null,
      "metadata": {
        "id": "24dsnpRJfHHM",
        "colab": {
          "base_uri": "https://localhost:8080/"
        },
        "outputId": "19f9cabe-f5e4-451a-aa18-929cef88dc18"
      },
      "outputs": [
        {
          "output_type": "stream",
          "name": "stderr",
          "text": [
            "WARNING:absl:`lr` is deprecated in Keras optimizer, please use `learning_rate` or use the legacy optimizer, e.g.,tf.keras.optimizers.legacy.SGD.\n"
          ]
        },
        {
          "output_type": "stream",
          "name": "stdout",
          "text": [
            "Epoch 1/10\n",
            "5/5 [==============================] - ETA: 0s - loss: 1432.2275 - accuracy: 0.3000"
          ]
        },
        {
          "output_type": "stream",
          "name": "stderr",
          "text": [
            "WARNING:tensorflow:Your input ran out of data; interrupting training. Make sure that your dataset or generator can generate at least `steps_per_epoch * epochs` batches (in this case, 50 batches). You may need to use the repeat() function when building your dataset.\n"
          ]
        },
        {
          "output_type": "stream",
          "name": "stdout",
          "text": [
            "\b\b\b\b\b\b\b\b\b\b\b\b\b\b\b\b\b\b\b\b\b\b\b\b\b\b\b\b\b\b\b\b\b\b\b\b\b\b\b\b\b\b\b\b\b\b\b\b\b\b\b\b\b\b\b\b\b\b\b\b\b\b\b\b\b\b\b\b\b\b\b\b\b\b\b\b\b\b\b\b\b\b\b\r5/5 [==============================] - 6s 496ms/step - loss: 1432.2275 - accuracy: 0.3000 - val_loss: 9025.9902 - val_accuracy: 0.5000\n",
            "Epoch 2/10\n",
            "5/5 [==============================] - 0s 81ms/step - loss: 11576.0137 - accuracy: 0.7000\n",
            "Epoch 3/10\n",
            "5/5 [==============================] - 1s 169ms/step - loss: 2737.4167 - accuracy: 0.6000\n",
            "Epoch 4/10\n",
            "5/5 [==============================] - 0s 76ms/step - loss: 1798757.6250 - accuracy: 0.5000\n",
            "Epoch 5/10\n",
            "5/5 [==============================] - 0s 76ms/step - loss: 2559356672.0000 - accuracy: 0.6000\n",
            "Epoch 6/10\n",
            "5/5 [==============================] - 0s 77ms/step - loss: 12065626412785594269696.0000 - accuracy: 0.6000\n",
            "Epoch 7/10\n",
            "5/5 [==============================] - 0s 59ms/step - loss: nan - accuracy: 0.3000\n",
            "Epoch 8/10\n",
            "5/5 [==============================] - 1s 161ms/step - loss: nan - accuracy: 0.5000\n",
            "Epoch 9/10\n",
            "5/5 [==============================] - 0s 48ms/step - loss: nan - accuracy: 0.7000\n",
            "Epoch 10/10\n",
            "5/5 [==============================] - 0s 46ms/step - loss: nan - accuracy: 0.3000\n"
          ]
        },
        {
          "output_type": "execute_result",
          "data": {
            "text/plain": [
              "<keras.src.callbacks.History at 0x7a6cf0170850>"
            ]
          },
          "metadata": {},
          "execution_count": 12
        }
      ],
      "source": [
        "# Unfreeze deeper layers\n",
        "for layer in base_model.layers[-6:]:\n",
        "    layer.trainable = True\n",
        "\n",
        "# Recompile and fine-tune model\n",
        "model.compile(optimizer=SGD(lr=0.0001, momentum=0.9),\n",
        "              loss='categorical_crossentropy',\n",
        "              metrics=['accuracy'])\n",
        "\n",
        "model.fit(\n",
        "        train_generator,\n",
        "        steps_per_epoch=5,\n",
        "        epochs=10,\n",
        "        validation_data=validation_generator,\n",
        "        validation_steps=50)"
      ]
    }
  ],
  "metadata": {
    "kernelspec": {
      "display_name": "Python 3",
      "name": "python3"
    },
    "language_info": {
      "codemirror_mode": {
        "name": "ipython",
        "version": 3
      },
      "file_extension": ".py",
      "mimetype": "text/x-python",
      "name": "python",
      "nbconvert_exporter": "python",
      "pygments_lexer": "ipython3",
      "version": "3.10.9"
    },
    "orig_nbformat": 4,
    "colab": {
      "provenance": [],
      "gpuType": "T4"
    },
    "accelerator": "GPU"
  },
  "nbformat": 4,
  "nbformat_minor": 0
}